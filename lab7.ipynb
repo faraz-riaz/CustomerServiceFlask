{
 "cells": [
  {
   "cell_type": "code",
   "execution_count": 1,
   "metadata": {},
   "outputs": [],
   "source": [
    "from mistralai import Mistral, UserMessage"
   ]
  },
  {
   "cell_type": "markdown",
   "metadata": {},
   "source": [
    "# Step 1"
   ]
  },
  {
   "cell_type": "code",
   "execution_count": 2,
   "metadata": {},
   "outputs": [],
   "source": [
    "api_key = 'Bam4D3dDHKHPnufqzMfPZtejYTHkSeOm'"
   ]
  },
  {
   "cell_type": "code",
   "execution_count": 3,
   "metadata": {},
   "outputs": [],
   "source": [
    "def mistral(user_message, model=\"mistral-small-latest\", is_json=False):\n",
    "    model = \"mistral-large-latest\"\n",
    "    client = Mistral(api_key=api_key)\n",
    "    messages = [\n",
    "        UserMessage(content=user_message),\n",
    "    ]\n",
    "    chat_response = client.chat.complete(\n",
    "        model=model,\n",
    "        messages=messages,\n",
    "    )\n",
    "    return chat_response.choices[0].message.content"
   ]
  },
  {
   "cell_type": "code",
   "execution_count": 4,
   "metadata": {},
   "outputs": [
    {
     "data": {
      "text/plain": [
       "'Hello! I can help with a wide range of tasks and provide information on various topics. Here are some things I can do:\\n\\n1. **Answer Questions**: Provide information on a wide range of topics, including science, history, technology, and more.\\n2. **Assist with Writing**: Help with writing essays, reports, emails, and other types of documents.\\n3. **Provide Recommendations**: Suggest books, movies, recipes, travel destinations, and more.\\n4. **Offer Study Help**: Assist with homework, explain concepts, and provide study tips.\\n5. **Tech Support**: Offer guidance on using software, troubleshooting issues, and understanding technology.\\n6. **Language Assistance**: Help with translations, grammar, and language learning.\\n7. **Personal Development**: Offer tips on productivity, time management, and self-improvement.\\n8. **Creative Projects**: Provide ideas and assistance with creative writing, art projects, and more.\\n9. **Advice and Tips**: Offer advice on various topics, including health, finance, and relationships.\\n\\nWhat do you need help with today?'"
      ]
     },
     "execution_count": 4,
     "metadata": {},
     "output_type": "execute_result"
    }
   ],
   "source": [
    "mistral(\"hello, what can you do?\")"
   ]
  },
  {
   "cell_type": "markdown",
   "metadata": {},
   "source": [
    "# Step 2"
   ]
  },
  {
   "cell_type": "code",
   "execution_count": 10,
   "metadata": {},
   "outputs": [
    {
     "data": {
      "text/plain": [
       "'The most appropriate category for the customer inquiry \"How can I get a credit card?\" is:\\n\\nCredit Cards'"
      ]
     },
     "execution_count": 10,
     "metadata": {},
     "output_type": "execute_result"
    }
   ],
   "source": [
    "query = \"How can i get a credit card?\"\n",
    "\n",
    "prompt = f\"\"\"\n",
    "\"You are an AI assistant trained to support a bank's customer service team. Your task is to categorize customer inquiries into one of the \n",
    "following predefined categories:\n",
    "\n",
    "Account Management: Questions related to opening, closing, or managing bank accounts.\n",
    "Transaction Issues: Inquiries about unauthorized charges, failed transactions, or disputes.\n",
    "Loan Services: Requests for information on personal, home, or auto loans.\n",
    "Credit Cards: Queries about credit card applications, benefits, or billing.\n",
    "Online Banking: Issues related to internet banking, mobile app access, or technical support.\n",
    "Fraud and Security: Reports of suspicious activity or questions about account security.\n",
    "General Information: Requests for branch locations, operating hours, or bank policies.\n",
    "\n",
    "Given the customer inquiry below, determine the most appropriate category from the list above. If the inquiry doesn't fit any category, \n",
    "classify it as 'Other'\n",
    "\n",
    "Query: {query}\n",
    "\"\"\"\n",
    "\n",
    "response = mistral(prompt)\n",
    "response"
   ]
  },
  {
   "cell_type": "markdown",
   "metadata": {},
   "source": [
    "# Step 3"
   ]
  },
  {
   "cell_type": "code",
   "execution_count": 6,
   "metadata": {},
   "outputs": [
    {
     "name": "stdout",
     "output_type": "stream",
     "text": [
      "```json\n",
      "{\n",
      "  \"age\": 60,\n",
      "  \"gender\": \"male\",\n",
      "  \"diagnosis\": \"diabetes\",\n",
      "  \"weight\": 210,\n",
      "  \"smoking\": \"yes\"\n",
      "}\n",
      "```\n"
     ]
    }
   ],
   "source": [
    "medical_notes = \"\"\"\n",
    "A 60-year-old male patient, Mr. Johnson, presented with symptoms\n",
    "of increased thirst, frequent urination, fatigue, and unexplained\n",
    "weight loss. Upon evaluation, he was diagnosed with diabetes,\n",
    "confirmed by elevated blood sugar levels. Mr. Johnson's weight\n",
    "is 210 lbs. He has been prescribed Metformin to be taken twice daily\n",
    "with meals. It was noted during the consultation that the patient is\n",
    "a current smoker.\n",
    "\"\"\"\n",
    "\n",
    "prompt = f\"\"\"\n",
    "    Extract information from the following medical notes:\n",
    "    {medical_notes}\n",
    "    Return json format with the following JSON schema:\n",
    "    {{\n",
    "    \"age\": {{\n",
    "    \"type\": \"integer\"\n",
    "    }},\n",
    "    \"gender\": {{\n",
    "    \"type\": \"string\",\n",
    "    \"enum\": [\"male\", \"female\", \"other\"]\n",
    "    }},\n",
    "    \"diagnosis\": {{\n",
    "    \"type\": \"string\",\n",
    "    \"enum\": [\"migraine\", \"diabetes\", \"arthritis\", \"acne\"]\n",
    "    }},\n",
    "    \"weight\": {{\n",
    "    \"type\": \"integer\"\n",
    "    }},\n",
    "    \"smoking\": {{\n",
    "    \"type\": \"string\",\n",
    "    \"enum\": [\"yes\", \"no\"]\n",
    "    }}\n",
    "    }}\n",
    "\"\"\"\n",
    "\n",
    "response = mistral(prompt, is_json=True)\n",
    "print(response)"
   ]
  },
  {
   "cell_type": "markdown",
   "metadata": {},
   "source": [
    "# Step 4"
   ]
  },
  {
   "cell_type": "code",
   "execution_count": 7,
   "metadata": {},
   "outputs": [
    {
     "name": "stdout",
     "output_type": "stream",
     "text": [
      "Dear Anna,\n",
      "\n",
      "Thank you for reaching out to us.\n",
      "\n",
      "The Annual Percentage Rate (APR) for our 30-year fixed-rate mortgage is 6.484%. In comparison, the APR for our 15-year fixed-rate mortgage is 5.848%.\n",
      "\n",
      "If you have any further questions or need additional information, please feel free to ask.\n",
      "\n",
      "Best regards,\n",
      "\n",
      "Lender Customer Support\n"
     ]
    }
   ],
   "source": [
    "email = \"\"\"\n",
    "Dear mortgage lender,\n",
    "\n",
    "What's your 30-year fixed-rate APR, how is it compared to the 15-year\n",
    "fixed rate?\n",
    "\n",
    "Regards,\n",
    "Anna\n",
    "\"\"\"\n",
    "\n",
    "prompt = f\"\"\"\n",
    "\n",
    "You are a mortgage lender customer service bot, and your task is to\n",
    "create personalized email responses to address customer questions.\n",
    "Answer the customer's inquiry using the provided facts below. Ensure\n",
    "that your response is clear, concise, and directly addresses the\n",
    "customer's question. Address the customer in a friendly and\n",
    "professional manner. Sign the email with \"Lender Customer Support.\"\n",
    "\n",
    "# Facts\n",
    "30-year fixed-rate: interest rate 6.403%, APR 6.484%\n",
    "20-year fixed-rate: interest rate 6.329%, APR 6.429%\n",
    "15-year fixed-rate: interest rate 5.705%, APR 5.848%\n",
    "10-year fixed-rate: interest rate 5.500%, APR 5.720%\n",
    "7-year ARM: interest rate 7.011%, APR 7.660%\n",
    "5-year ARM: interest rate 6.880%, APR 7.754%\n",
    "3-year ARM: interest rate 6.125%, APR 7.204%\n",
    "30-year fixed-rate FHA: interest rate 5.527%, APR 6.316%\n",
    "30-year fixed-rate VA: interest rate 5.684%, APR 6.062%\n",
    "\n",
    "# Email\n",
    "{email}\n",
    "\"\"\"\n",
    "\n",
    "response = mistral(prompt)\n",
    "print(response)"
   ]
  },
  {
   "cell_type": "markdown",
   "metadata": {},
   "source": [
    "# Step 5"
   ]
  },
  {
   "cell_type": "code",
   "execution_count": 8,
   "metadata": {},
   "outputs": [
    {
     "name": "stdout",
     "output_type": "stream",
     "text": [
      "# Analysis Report\n",
      "\n",
      "## Summary\n",
      "\n",
      "Anthropic has launched Claude 3.7 Sonnet, an AI model with \"hybrid reasoning\" capabilities that combine instinctive responses with deep analytical thinking. This model allows users to adjust the reasoning depth, optimizing response time and computational resources for various tasks. The \"extended thinking mode\" enhances performance in complex fields like mathematics, physics, and coding. Alongside this, Anthropic introduced Claude Code, an AI-powered coding assistant for developers. These tools are accessible through multiple platforms and are priced competitively. This launch positions Anthropic as a major player in the AI industry, offering a unified model that can handle both quick responses and deep analytical reasoning, thus optimizing efficiency and reducing operational costs for businesses.\n",
      "\n",
      "## Interesting Questions\n",
      "\n",
      "### Q1: How does the \"hybrid reasoning\" capability of Claude 3.7 Sonnet differentiate it from existing AI models?\n",
      "\n",
      "**A1:** Claude 3.7 Sonnet's \"hybrid reasoning\" capability integrates instinctive responses with in-depth analytical thinking, allowing users to adjust the reasoning depth. This feature is unique because it balances response time and computational resources, making the model versatile for different tasks. Existing AI models typically focus on either quick responses or deep analysis, but not both simultaneously. The ability to adjust reasoning depth means Claude 3.7 Sonnet can handle a wide range of tasks efficiently, from simple queries to complex problem-solving.\n",
      "\n",
      "<**Hybrid reasoning integrates instinctive responses with analytical thinking, allowing for adjustable reasoning depth, which makes Claude 3.7 Sonnet versatile and efficient for various tasks.**>\n",
      "\n",
      "### Q2: What are the potential impacts of Claude Code on the software development industry?\n",
      "\n",
      "**A2:** Claude Code, an AI-powered coding assistant, can perform tasks like searching, editing, and testing code, streamlining the development process. This tool has the potential to significantly impact the software development industry by increasing efficiency and reducing the time developers spend on repetitive tasks. By providing active collaboration, Claude Code can help catch errors early, suggest optimizations, and even generate code snippets, leading to faster development cycles and higher-quality code. This can result in cost savings for businesses and improve the overall productivity of development teams.\n",
      "\n",
      "<**Claude Code can increase efficiency, reduce time on repetitive tasks, improve code quality, and lead to cost savings and higher productivity in the software development industry.**>\n",
      "\n",
      "### Q3: How does the competitive pricing of Claude 3.7 Sonnet and Claude Code benefit businesses?\n",
      "\n",
      "**A3:** The competitive pricing of Claude 3.7 Sonnet and Claude Code, at $3 per million input tokens and $15 per million output tokens, offers a cost-effective solution for businesses. This pricing strategy allows businesses to adopt advanced AI capabilities without incurring high costs, making it accessible even for smaller enterprises. By providing a unified model that can handle both quick responses and deep analytical reasoning, businesses can optimize their operations and reduce operational costs. This can lead to better resource allocation and improved overall efficiency, making AI adoption more feasible and beneficial for a wide range of businesses.\n",
      "\n",
      "<**Competitive pricing makes advanced AI capabilities accessible and cost-effective for businesses, leading to better resource allocation, improved efficiency, and reduced operational costs.**>\n",
      "\n",
      "## Comprehensive Report\n",
      "\n",
      "### Introduction\n",
      "\n",
      "Anthropic has made a significant advancement in the AI industry with the launch of Claude 3.7 Sonnet and Claude Code. These tools introduce new capabilities and pricing models that can reshape how businesses approach automation and software development.\n",
      "\n",
      "### Key Features and Capabilities\n",
      "\n",
      "**Claude 3.7 Sonnet:**\n",
      "- **Hybrid Reasoning:** Integrates instinctive responses with in-depth analytical thinking, allowing users to adjust the reasoning depth.\n",
      "- **Extended Thinking Mode:** Enhances performance in complex domains like mathematics, physics, and coding by enabling self-reflection before responding.\n",
      "- **Accessibility:** Available through the Claude app, Anthropic's API, Amazon Bedrock, and Google's Vertex AI.\n",
      "\n",
      "**Claude Code:**\n",
      "- **AI-Powered Coding Assistant:** Performs tasks like searching, editing, and testing code, streamlining the development process.\n",
      "- **Collaboration:** Designed to collaborate actively with developers, improving efficiency and code quality.\n",
      "\n",
      "### Pricing and Competitive Edge\n",
      "\n",
      "The pricing for Claude 3.7 Sonnet and Claude Code is competitive at $3 per million input tokens and $15 per million output tokens. This cost-effective solution allows businesses to adopt advanced AI capabilities without incurring high costs, making it accessible even for smaller enterprises. By providing a unified model capable of both quick responses and deep analytical reasoning, Anthropic aims to eliminate the need for multiple AI systems, optimizing efficiency and reducing operational costs.\n",
      "\n",
      "### Impact on the Industry\n",
      "\n",
      "**Claude 3.7 Sonnet:**\n",
      "- **Versatility:** The hybrid reasoning capability makes Claude 3.7 Sonnet versatile and efficient for various tasks, from simple queries to complex problem-solving.\n",
      "- **Efficiency:** The ability to adjust reasoning depth balances response time and computational resources, optimizing operations for businesses.\n",
      "\n",
      "**Claude Code:**\n",
      "- **Efficiency:** Streamlines the development process by handling repetitive tasks, improving code quality, and reducing development time.\n",
      "- **Productivity:** Increases overall productivity and leads to cost savings for businesses.\n",
      "\n",
      "### Conclusion\n",
      "\n",
      "Anthropic's launch of Claude 3.7 Sonnet and Claude Code positions the company at the forefront of the AI industry. By offering a unified model with hybrid reasoning capabilities and a competitive pricing structure, Anthropic provides businesses with a cost-effective solution for automation and software development. This advancement promises to reshape the industry by optimizing efficiency, reducing operational costs, and improving overall productivity.\n"
     ]
    }
   ],
   "source": [
    "newsletter = \"\"\"\n",
    "Anthropic has unveiled Claude 3.7 Sonnet, a groundbreaking AI model that introduces \"hybrid reasoning\" capabilities, seamlessly integrating \n",
    "instinctive responses with in-depth analytical thinking. This innovation allows users to adjust the model's reasoning depth, balancing response \n",
    "time and computational resources to suit various tasks. Notably, Claude 3.7 Sonnet features an \"extended thinking mode,\" enabling the AI to \n",
    "engage in self-reflection before responding, thereby enhancing performance in complex domains such as mathematics, physics, and coding. \n",
    "\n",
    "In conjunction with this release, Anthropic has introduced Claude Code, an AI-powered coding assistant designed to collaborate actively with \n",
    "developers. This tool can perform tasks like searching, editing, and testing code, streamlining the development process. Claude 3.7 Sonnet and \n",
    "Claude Code are accessible through various platforms, including the Claude app, Anthropic's API, Amazon Bedrock, and Google's Vertex AI. Despite \n",
    "the advanced features, the pricing remains competitive at $3 per million input tokens and $15 per million output tokens, offering a \n",
    "cost-effective solution for businesses. \n",
    "\n",
    "This launch positions Anthropic at the forefront of the AI industry, directly challenging competitors like OpenAI and DeepSeek. By providing a \n",
    "unified model capable of both quick responses and deep analytical reasoning, Claude 3.7 Sonnet aims to eliminate the need for multiple AI systems, \n",
    "thereby optimizing efficiency and reducing operational costs for enterprises. The model's enhanced performance in coding and complex \n",
    "\n",
    "problem-solving tasks signifies a significant advancement in AI technology, promising to reshape how businesses approach automation and software \n",
    "development.\n",
    "\"\"\"\n",
    "\n",
    "prompt = f\"\"\"\n",
    "You are a commentator. Your task is to write a report on a newsletter.\n",
    "When presented with the newsletter, come up with interesting questions to ask,\n",
    "and answer each question.\n",
    "Afterward, combine all the information and write a report in the markdown\n",
    "format.\n",
    "\n",
    "# Newsletter:\n",
    "{newsletter}\n",
    "\n",
    "# Instructions:\n",
    "## Summarize:\n",
    "In clear and concise language, summarize the key points and themes\n",
    "presented in the newsletter.\n",
    "## Interesting Questions:\n",
    "Generate three distinct and thought-provoking questions that can be\n",
    "asked about the content of the newsletter. For each question:\n",
    "- After \"Q: \", describe the problem\n",
    "- After \"A: \", provide a detailed explanation of the problem addressed\n",
    "in the question.\n",
    "- Enclose the ultimate answer in <>.\n",
    "## Write a analysis report\n",
    "Using the summary and the answers to the interesting questions,\n",
    "create a comprehensive report in Markdown format.\n",
    "\"\"\"\n",
    "\n",
    "response = mistral(prompt)\n",
    "print(response)"
   ]
  }
 ],
 "metadata": {
  "kernelspec": {
   "display_name": "venv",
   "language": "python",
   "name": "python3"
  },
  "language_info": {
   "codemirror_mode": {
    "name": "ipython",
    "version": 3
   },
   "file_extension": ".py",
   "mimetype": "text/x-python",
   "name": "python",
   "nbconvert_exporter": "python",
   "pygments_lexer": "ipython3",
   "version": "3.10.10"
  }
 },
 "nbformat": 4,
 "nbformat_minor": 2
}
